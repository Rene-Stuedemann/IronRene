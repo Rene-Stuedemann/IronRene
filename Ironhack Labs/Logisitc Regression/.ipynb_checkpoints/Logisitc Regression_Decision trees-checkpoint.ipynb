{
 "cells": [
  {
   "cell_type": "markdown",
   "id": "72838514",
   "metadata": {},
   "source": [
    "# Lab | Logisitc Regression, Handling Imbalanced Data\n",
    "For this lab we will build a model on customer churn binary classification problem. You will be using `Data/DATA_Customer-Churn.csv` file.\n",
    "\n",
    "### Scenario\n",
    "\n",
    "You are working as an analyst with this internet service provider. You are provided with this historical data about your company's customers and their churn trends. Your task is to build a machine learning model that will help the company identify customers that are more likely to default/churn and thus prevent losses from such customers.\n",
    "\n",
    "### Instructions\n",
    "\n",
    "In this lab, we will first take a look at the degree of imbalance in the data and correct it using the techniques we learned on the class.\n",
    "\n",
    "Here is the list of steps to be followed (building a simple model without balancing the data):"
   ]
  },
  {
   "cell_type": "markdown",
   "id": "3be07dc3",
   "metadata": {},
   "source": [
    "- Import the required libraries and modules that you would need."
   ]
  },
  {
   "cell_type": "code",
   "execution_count": 1,
   "id": "e7170785",
   "metadata": {},
   "outputs": [],
   "source": [
    "import pandas as pd\n",
    "import numpy as np\n",
    "from sklearn.model_selection import train_test_split"
   ]
  },
  {
   "cell_type": "markdown",
   "id": "f3e9e8b5",
   "metadata": {},
   "source": [
    "- Read that data into Python and call the dataframe `churnData`."
   ]
  },
  {
   "cell_type": "code",
   "execution_count": 3,
   "id": "b4a67228",
   "metadata": {},
   "outputs": [],
   "source": [
    "churnData = pd.read_csv('Data/DATA_Customer-Churn.csv')"
   ]
  },
  {
   "cell_type": "markdown",
   "id": "8229b4e8",
   "metadata": {},
   "source": [
    "- Check the datatypes of all the columns in the data. You would see that the column `TotalCharges` is object type. Convert this column into numeric type using `pd.to_numeric` function."
   ]
  },
  {
   "cell_type": "code",
   "execution_count": 7,
   "id": "342f2c76",
   "metadata": {
    "scrolled": false
   },
   "outputs": [
    {
     "name": "stdout",
     "output_type": "stream",
     "text": [
      "<class 'pandas.core.frame.DataFrame'>\n",
      "RangeIndex: 7043 entries, 0 to 7042\n",
      "Data columns (total 16 columns):\n",
      " #   Column            Non-Null Count  Dtype  \n",
      "---  ------            --------------  -----  \n",
      " 0   gender            7043 non-null   object \n",
      " 1   SeniorCitizen     7043 non-null   int64  \n",
      " 2   Partner           7043 non-null   object \n",
      " 3   Dependents        7043 non-null   object \n",
      " 4   tenure            7043 non-null   int64  \n",
      " 5   PhoneService      7043 non-null   object \n",
      " 6   OnlineSecurity    7043 non-null   object \n",
      " 7   OnlineBackup      7043 non-null   object \n",
      " 8   DeviceProtection  7043 non-null   object \n",
      " 9   TechSupport       7043 non-null   object \n",
      " 10  StreamingTV       7043 non-null   object \n",
      " 11  StreamingMovies   7043 non-null   object \n",
      " 12  Contract          7043 non-null   object \n",
      " 13  MonthlyCharges    7043 non-null   float64\n",
      " 14  TotalCharges      7043 non-null   object \n",
      " 15  Churn             7043 non-null   object \n",
      "dtypes: float64(1), int64(2), object(13)\n",
      "memory usage: 880.5+ KB\n"
     ]
    }
   ],
   "source": [
    "churnData.info()"
   ]
  },
  {
   "cell_type": "code",
   "execution_count": 8,
   "id": "a1c0c2be",
   "metadata": {},
   "outputs": [],
   "source": [
    "churnData['TotalCharges'] =  pd.to_numeric(churnData['TotalCharges'], errors='coerce')"
   ]
  },
  {
   "cell_type": "markdown",
   "id": "f7e4ca22",
   "metadata": {},
   "source": [
    "- Check for null values in the dataframe. Replace the null values."
   ]
  },
  {
   "cell_type": "code",
   "execution_count": 10,
   "id": "454c6a6f",
   "metadata": {},
   "outputs": [
    {
     "data": {
      "text/plain": [
       "gender              0.00\n",
       "SeniorCitizen       0.00\n",
       "Partner             0.00\n",
       "Dependents          0.00\n",
       "tenure              0.00\n",
       "PhoneService        0.00\n",
       "OnlineSecurity      0.00\n",
       "OnlineBackup        0.00\n",
       "DeviceProtection    0.00\n",
       "TechSupport         0.00\n",
       "StreamingTV         0.00\n",
       "StreamingMovies     0.00\n",
       "Contract            0.00\n",
       "MonthlyCharges      0.00\n",
       "TotalCharges        0.16\n",
       "Churn               0.00\n",
       "dtype: float64"
      ]
     },
     "execution_count": 10,
     "metadata": {},
     "output_type": "execute_result"
    }
   ],
   "source": [
    "round(churnData.isna().sum()/len(churnData),4)*100 "
   ]
  },
  {
   "cell_type": "code",
   "execution_count": 11,
   "id": "0363798d",
   "metadata": {},
   "outputs": [],
   "source": [
    "# For column 'TotalCharges' there are some NaN-values so lets replace it with the mean of the columns\n",
    "mean_clv = churnData['TotalCharges'].mean()\n",
    "churnData['TotalCharges'].fillna(mean_clv, inplace=True)"
   ]
  },
  {
   "cell_type": "markdown",
   "id": "b60ef881",
   "metadata": {},
   "source": [
    "- Use the following features: `tenure`, `SeniorCitizen`, `MonthlyCharges` and `TotalCharges`:"
   ]
  },
  {
   "cell_type": "code",
   "execution_count": 13,
   "id": "0f3c029f",
   "metadata": {
    "scrolled": true
   },
   "outputs": [
    {
     "data": {
      "text/html": [
       "<div>\n",
       "<style scoped>\n",
       "    .dataframe tbody tr th:only-of-type {\n",
       "        vertical-align: middle;\n",
       "    }\n",
       "\n",
       "    .dataframe tbody tr th {\n",
       "        vertical-align: top;\n",
       "    }\n",
       "\n",
       "    .dataframe thead th {\n",
       "        text-align: right;\n",
       "    }\n",
       "</style>\n",
       "<table border=\"1\" class=\"dataframe\">\n",
       "  <thead>\n",
       "    <tr style=\"text-align: right;\">\n",
       "      <th></th>\n",
       "      <th>gender</th>\n",
       "      <th>SeniorCitizen</th>\n",
       "      <th>Partner</th>\n",
       "      <th>Dependents</th>\n",
       "      <th>tenure</th>\n",
       "      <th>PhoneService</th>\n",
       "      <th>OnlineSecurity</th>\n",
       "      <th>OnlineBackup</th>\n",
       "      <th>DeviceProtection</th>\n",
       "      <th>TechSupport</th>\n",
       "      <th>StreamingTV</th>\n",
       "      <th>StreamingMovies</th>\n",
       "      <th>Contract</th>\n",
       "      <th>MonthlyCharges</th>\n",
       "      <th>TotalCharges</th>\n",
       "      <th>Churn</th>\n",
       "    </tr>\n",
       "  </thead>\n",
       "  <tbody>\n",
       "    <tr>\n",
       "      <th>0</th>\n",
       "      <td>Female</td>\n",
       "      <td>0</td>\n",
       "      <td>Yes</td>\n",
       "      <td>No</td>\n",
       "      <td>1</td>\n",
       "      <td>No</td>\n",
       "      <td>No</td>\n",
       "      <td>Yes</td>\n",
       "      <td>No</td>\n",
       "      <td>No</td>\n",
       "      <td>No</td>\n",
       "      <td>No</td>\n",
       "      <td>Month-to-month</td>\n",
       "      <td>29.85</td>\n",
       "      <td>29.85</td>\n",
       "      <td>No</td>\n",
       "    </tr>\n",
       "    <tr>\n",
       "      <th>1</th>\n",
       "      <td>Male</td>\n",
       "      <td>0</td>\n",
       "      <td>No</td>\n",
       "      <td>No</td>\n",
       "      <td>34</td>\n",
       "      <td>Yes</td>\n",
       "      <td>Yes</td>\n",
       "      <td>No</td>\n",
       "      <td>Yes</td>\n",
       "      <td>No</td>\n",
       "      <td>No</td>\n",
       "      <td>No</td>\n",
       "      <td>One year</td>\n",
       "      <td>56.95</td>\n",
       "      <td>1889.50</td>\n",
       "      <td>No</td>\n",
       "    </tr>\n",
       "    <tr>\n",
       "      <th>2</th>\n",
       "      <td>Male</td>\n",
       "      <td>0</td>\n",
       "      <td>No</td>\n",
       "      <td>No</td>\n",
       "      <td>2</td>\n",
       "      <td>Yes</td>\n",
       "      <td>Yes</td>\n",
       "      <td>Yes</td>\n",
       "      <td>No</td>\n",
       "      <td>No</td>\n",
       "      <td>No</td>\n",
       "      <td>No</td>\n",
       "      <td>Month-to-month</td>\n",
       "      <td>53.85</td>\n",
       "      <td>108.15</td>\n",
       "      <td>Yes</td>\n",
       "    </tr>\n",
       "    <tr>\n",
       "      <th>3</th>\n",
       "      <td>Male</td>\n",
       "      <td>0</td>\n",
       "      <td>No</td>\n",
       "      <td>No</td>\n",
       "      <td>45</td>\n",
       "      <td>No</td>\n",
       "      <td>Yes</td>\n",
       "      <td>No</td>\n",
       "      <td>Yes</td>\n",
       "      <td>Yes</td>\n",
       "      <td>No</td>\n",
       "      <td>No</td>\n",
       "      <td>One year</td>\n",
       "      <td>42.30</td>\n",
       "      <td>1840.75</td>\n",
       "      <td>No</td>\n",
       "    </tr>\n",
       "    <tr>\n",
       "      <th>4</th>\n",
       "      <td>Female</td>\n",
       "      <td>0</td>\n",
       "      <td>No</td>\n",
       "      <td>No</td>\n",
       "      <td>2</td>\n",
       "      <td>Yes</td>\n",
       "      <td>No</td>\n",
       "      <td>No</td>\n",
       "      <td>No</td>\n",
       "      <td>No</td>\n",
       "      <td>No</td>\n",
       "      <td>No</td>\n",
       "      <td>Month-to-month</td>\n",
       "      <td>70.70</td>\n",
       "      <td>151.65</td>\n",
       "      <td>Yes</td>\n",
       "    </tr>\n",
       "  </tbody>\n",
       "</table>\n",
       "</div>"
      ],
      "text/plain": [
       "   gender  SeniorCitizen Partner Dependents  tenure PhoneService  \\\n",
       "0  Female              0     Yes         No       1           No   \n",
       "1    Male              0      No         No      34          Yes   \n",
       "2    Male              0      No         No       2          Yes   \n",
       "3    Male              0      No         No      45           No   \n",
       "4  Female              0      No         No       2          Yes   \n",
       "\n",
       "  OnlineSecurity OnlineBackup DeviceProtection TechSupport StreamingTV  \\\n",
       "0             No          Yes               No          No          No   \n",
       "1            Yes           No              Yes          No          No   \n",
       "2            Yes          Yes               No          No          No   \n",
       "3            Yes           No              Yes         Yes          No   \n",
       "4             No           No               No          No          No   \n",
       "\n",
       "  StreamingMovies        Contract  MonthlyCharges  TotalCharges Churn  \n",
       "0              No  Month-to-month           29.85         29.85    No  \n",
       "1              No        One year           56.95       1889.50    No  \n",
       "2              No  Month-to-month           53.85        108.15   Yes  \n",
       "3              No        One year           42.30       1840.75    No  \n",
       "4              No  Month-to-month           70.70        151.65   Yes  "
      ]
     },
     "execution_count": 13,
     "metadata": {},
     "output_type": "execute_result"
    }
   ],
   "source": [
    "# Let's construct a dataframe with the obove features\n",
    "X = churnData.drop(columns=['gender','Partner','Dependents', 'PhoneService', 'OnlineSecurity',\n",
    "                       'OnlineBackup','DeviceProtection','TechSupport','StreamingTV','StreamingMovies','Contract','Churn'], axis = 1)\n",
    "y = np.log(churnData['TotalCharges'])\n",
    "\n",
    "churnData.head()"
   ]
  },
  {
   "cell_type": "code",
   "execution_count": 14,
   "id": "1b7e8c9b",
   "metadata": {
    "scrolled": true
   },
   "outputs": [
    {
     "data": {
      "text/html": [
       "<div>\n",
       "<style scoped>\n",
       "    .dataframe tbody tr th:only-of-type {\n",
       "        vertical-align: middle;\n",
       "    }\n",
       "\n",
       "    .dataframe tbody tr th {\n",
       "        vertical-align: top;\n",
       "    }\n",
       "\n",
       "    .dataframe thead th {\n",
       "        text-align: right;\n",
       "    }\n",
       "</style>\n",
       "<table border=\"1\" class=\"dataframe\">\n",
       "  <thead>\n",
       "    <tr style=\"text-align: right;\">\n",
       "      <th></th>\n",
       "      <th>SeniorCitizen</th>\n",
       "      <th>tenure</th>\n",
       "      <th>MonthlyCharges</th>\n",
       "      <th>TotalCharges</th>\n",
       "    </tr>\n",
       "  </thead>\n",
       "  <tbody>\n",
       "    <tr>\n",
       "      <th>0</th>\n",
       "      <td>0</td>\n",
       "      <td>1</td>\n",
       "      <td>29.85</td>\n",
       "      <td>29.85</td>\n",
       "    </tr>\n",
       "    <tr>\n",
       "      <th>1</th>\n",
       "      <td>0</td>\n",
       "      <td>34</td>\n",
       "      <td>56.95</td>\n",
       "      <td>1889.50</td>\n",
       "    </tr>\n",
       "    <tr>\n",
       "      <th>2</th>\n",
       "      <td>0</td>\n",
       "      <td>2</td>\n",
       "      <td>53.85</td>\n",
       "      <td>108.15</td>\n",
       "    </tr>\n",
       "    <tr>\n",
       "      <th>3</th>\n",
       "      <td>0</td>\n",
       "      <td>45</td>\n",
       "      <td>42.30</td>\n",
       "      <td>1840.75</td>\n",
       "    </tr>\n",
       "    <tr>\n",
       "      <th>4</th>\n",
       "      <td>0</td>\n",
       "      <td>2</td>\n",
       "      <td>70.70</td>\n",
       "      <td>151.65</td>\n",
       "    </tr>\n",
       "  </tbody>\n",
       "</table>\n",
       "</div>"
      ],
      "text/plain": [
       "   SeniorCitizen  tenure  MonthlyCharges  TotalCharges\n",
       "0              0       1           29.85         29.85\n",
       "1              0      34           56.95       1889.50\n",
       "2              0       2           53.85        108.15\n",
       "3              0      45           42.30       1840.75\n",
       "4              0       2           70.70        151.65"
      ]
     },
     "execution_count": 14,
     "metadata": {},
     "output_type": "execute_result"
    }
   ],
   "source": [
    "X_cols = X.select_dtypes(include=np.number).columns\n",
    "X = X.select_dtypes(include=np.number)\n",
    "\n",
    "X.head()"
   ]
  },
  {
   "cell_type": "code",
   "execution_count": 15,
   "id": "940f1bda",
   "metadata": {},
   "outputs": [
    {
     "data": {
      "text/plain": [
       "SeniorCitizen     0\n",
       "tenure            0\n",
       "MonthlyCharges    0\n",
       "TotalCharges      0\n",
       "dtype: int64"
      ]
     },
     "execution_count": 15,
     "metadata": {},
     "output_type": "execute_result"
    }
   ],
   "source": [
    "X.isna().sum()"
   ]
  },
  {
   "cell_type": "markdown",
   "id": "f58052a5",
   "metadata": {},
   "source": [
    "  - Scale the features either by using normalizer or a standard scaler.\n",
    "  - Split the data into a training set and a test set."
   ]
  },
  {
   "cell_type": "markdown",
   "id": "a35a6b07",
   "metadata": {},
   "source": [
    "### Performing PCA"
   ]
  },
  {
   "cell_type": "code",
   "execution_count": 16,
   "id": "1d81bb2e",
   "metadata": {},
   "outputs": [],
   "source": [
    "from sklearn.preprocessing import StandardScaler\n",
    "from sklearn.model_selection import train_test_split\n",
    "\n",
    "X_train, X_test, y_train, y_test = train_test_split(X, y, test_size=0.20, random_state=42)\n",
    "\n",
    "scaler = StandardScaler()\n",
    "\n",
    "scaler.fit(X_train)\n",
    "\n",
    "X_train = scaler.transform(X_train)\n",
    "X_test  = scaler.transform(X_test)\n",
    "\n",
    "X_train = pd.DataFrame(X_train, columns = X.columns)\n",
    "X_test  = pd.DataFrame(X_test , columns = X.columns)"
   ]
  },
  {
   "cell_type": "code",
   "execution_count": 17,
   "id": "fa8dd191",
   "metadata": {},
   "outputs": [
    {
     "data": {
      "text/plain": [
       "(5634, 4)"
      ]
     },
     "execution_count": 17,
     "metadata": {},
     "output_type": "execute_result"
    }
   ],
   "source": [
    "X_train.shape"
   ]
  },
  {
   "cell_type": "markdown",
   "id": "a9e6fd98",
   "metadata": {},
   "source": [
    "  - Fit a logistic Regression model on the training data."
   ]
  },
  {
   "cell_type": "code",
   "execution_count": 18,
   "id": "c30d32b1",
   "metadata": {},
   "outputs": [],
   "source": [
    "from sklearn.decomposition import PCA\n",
    "\n",
    "pca = PCA(svd_solver='full')\n",
    "\n",
    "pca.fit(X_train)\n",
    "\n",
    "X_train = pca.transform(X_train)\n",
    "X_test  = pca.transform(X_test)\n",
    "\n",
    "cols = [ 'PCA_' + str(i) for i in list(range(1,len(X.columns)+1))]\n",
    "\n",
    "X_train = pd.DataFrame(X_train, columns = cols)\n",
    "X_test  = pd.DataFrame(X_test , columns = cols)\n",
    "\n",
    "#X_train = pd.DataFrame(X_train, columns = X.columns)\n",
    "#X_test  = pd.DataFrame(X_test , columns = X.columns)"
   ]
  },
  {
   "cell_type": "code",
   "execution_count": 19,
   "id": "637c772a",
   "metadata": {
    "scrolled": true
   },
   "outputs": [
    {
     "data": {
      "text/html": [
       "<div>\n",
       "<style scoped>\n",
       "    .dataframe tbody tr th:only-of-type {\n",
       "        vertical-align: middle;\n",
       "    }\n",
       "\n",
       "    .dataframe tbody tr th {\n",
       "        vertical-align: top;\n",
       "    }\n",
       "\n",
       "    .dataframe thead th {\n",
       "        text-align: right;\n",
       "    }\n",
       "</style>\n",
       "<table border=\"1\" class=\"dataframe\">\n",
       "  <thead>\n",
       "    <tr style=\"text-align: right;\">\n",
       "      <th></th>\n",
       "      <th>PCA_1</th>\n",
       "      <th>PCA_2</th>\n",
       "      <th>PCA_3</th>\n",
       "      <th>PCA_4</th>\n",
       "    </tr>\n",
       "  </thead>\n",
       "  <tbody>\n",
       "    <tr>\n",
       "      <th>0</th>\n",
       "      <td>-0.597127</td>\n",
       "      <td>-0.165922</td>\n",
       "      <td>-0.445690</td>\n",
       "      <td>-0.062630</td>\n",
       "    </tr>\n",
       "    <tr>\n",
       "      <th>1</th>\n",
       "      <td>1.780202</td>\n",
       "      <td>-0.526614</td>\n",
       "      <td>-0.508919</td>\n",
       "      <td>0.037403</td>\n",
       "    </tr>\n",
       "    <tr>\n",
       "      <th>2</th>\n",
       "      <td>-2.111007</td>\n",
       "      <td>-0.224500</td>\n",
       "      <td>0.122287</td>\n",
       "      <td>0.469953</td>\n",
       "    </tr>\n",
       "    <tr>\n",
       "      <th>3</th>\n",
       "      <td>-1.211850</td>\n",
       "      <td>0.195082</td>\n",
       "      <td>-0.938056</td>\n",
       "      <td>-0.104211</td>\n",
       "    </tr>\n",
       "    <tr>\n",
       "      <th>4</th>\n",
       "      <td>-0.846130</td>\n",
       "      <td>0.052429</td>\n",
       "      <td>-0.811390</td>\n",
       "      <td>0.762489</td>\n",
       "    </tr>\n",
       "  </tbody>\n",
       "</table>\n",
       "</div>"
      ],
      "text/plain": [
       "      PCA_1     PCA_2     PCA_3     PCA_4\n",
       "0 -0.597127 -0.165922 -0.445690 -0.062630\n",
       "1  1.780202 -0.526614 -0.508919  0.037403\n",
       "2 -2.111007 -0.224500  0.122287  0.469953\n",
       "3 -1.211850  0.195082 -0.938056 -0.104211\n",
       "4 -0.846130  0.052429 -0.811390  0.762489"
      ]
     },
     "execution_count": 19,
     "metadata": {},
     "output_type": "execute_result"
    }
   ],
   "source": [
    "X_train.head()"
   ]
  },
  {
   "cell_type": "markdown",
   "id": "9a585e7a",
   "metadata": {},
   "source": [
    "### Getting variances"
   ]
  },
  {
   "cell_type": "code",
   "execution_count": 20,
   "id": "8b851617",
   "metadata": {},
   "outputs": [
    {
     "name": "stdout",
     "output_type": "stream",
     "text": [
      "[0.55264377 0.26463034 0.16756035 0.01516555]\n"
     ]
    }
   ],
   "source": [
    "# Getting\n",
    "print(pca.explained_variance_ratio_) # Individual variances of each principal components\n",
    "#print(pca.singular_values_)"
   ]
  },
  {
   "cell_type": "code",
   "execution_count": 21,
   "id": "e6d94129",
   "metadata": {},
   "outputs": [],
   "source": [
    "variances = pca.explained_variance_ratio_.tolist()"
   ]
  },
  {
   "cell_type": "code",
   "execution_count": 22,
   "id": "70da4468",
   "metadata": {},
   "outputs": [
    {
     "data": {
      "text/plain": [
       "[0.5526437683112804, 0.2646303382422831]"
      ]
     },
     "execution_count": 22,
     "metadata": {},
     "output_type": "execute_result"
    }
   ],
   "source": [
    "variances[:2]"
   ]
  },
  {
   "cell_type": "code",
   "execution_count": 24,
   "id": "c2c3778a",
   "metadata": {},
   "outputs": [
    {
     "data": {
      "text/html": [
       "<div>\n",
       "<style scoped>\n",
       "    .dataframe tbody tr th:only-of-type {\n",
       "        vertical-align: middle;\n",
       "    }\n",
       "\n",
       "    .dataframe tbody tr th {\n",
       "        vertical-align: top;\n",
       "    }\n",
       "\n",
       "    .dataframe thead th {\n",
       "        text-align: right;\n",
       "    }\n",
       "</style>\n",
       "<table border=\"1\" class=\"dataframe\">\n",
       "  <thead>\n",
       "    <tr style=\"text-align: right;\">\n",
       "      <th></th>\n",
       "      <th>num_pca</th>\n",
       "      <th>variance</th>\n",
       "      <th>cum_variance</th>\n",
       "    </tr>\n",
       "  </thead>\n",
       "  <tbody>\n",
       "    <tr>\n",
       "      <th>0</th>\n",
       "      <td>1</td>\n",
       "      <td>0.552644</td>\n",
       "      <td>0.552644</td>\n",
       "    </tr>\n",
       "    <tr>\n",
       "      <th>1</th>\n",
       "      <td>2</td>\n",
       "      <td>0.264630</td>\n",
       "      <td>0.817274</td>\n",
       "    </tr>\n",
       "    <tr>\n",
       "      <th>2</th>\n",
       "      <td>3</td>\n",
       "      <td>0.167560</td>\n",
       "      <td>0.984834</td>\n",
       "    </tr>\n",
       "    <tr>\n",
       "      <th>3</th>\n",
       "      <td>4</td>\n",
       "      <td>0.015166</td>\n",
       "      <td>1.000000</td>\n",
       "    </tr>\n",
       "  </tbody>\n",
       "</table>\n",
       "</div>"
      ],
      "text/plain": [
       "   num_pca  variance  cum_variance\n",
       "0        1  0.552644      0.552644\n",
       "1        2  0.264630      0.817274\n",
       "2        3  0.167560      0.984834\n",
       "3        4  0.015166      1.000000"
      ]
     },
     "execution_count": 24,
     "metadata": {},
     "output_type": "execute_result"
    }
   ],
   "source": [
    "total_variance = [sum(variances[:i]) for i in range(1, len(variances)+1)]\n",
    "scree = pd.DataFrame({'num_pca': range(1,len(variances)+1),'variance': variances,'cum_variance': total_variance})\n",
    "scree.head()"
   ]
  },
  {
   "cell_type": "code",
   "execution_count": 43,
   "id": "c3150d3c",
   "metadata": {
    "scrolled": false
   },
   "outputs": [
    {
     "data": {
      "text/plain": [
       "<AxesSubplot:xlabel='num_pca', ylabel='cum_variance'>"
      ]
     },
     "execution_count": 43,
     "metadata": {},
     "output_type": "execute_result"
    },
    {
     "data": {
      "image/png": "[encoded data removed]",
      "text/plain": [
       "<Figure size 1152x576 with 2 Axes>"
      ]
     },
     "metadata": {},
     "output_type": "display_data"
    }
   ],
   "source": [
    "import matplotlib.pyplot as plt\n",
    "import seaborn as sns\n",
    "%matplotlib inline\n",
    "\n",
    "sns.set_style(\"darkgrid\", {\"axes.facecolor\": \".9\"})\n",
    "\n",
    "fig, ax = plt.subplots(1,2,figsize=(16,8))\n",
    "\n",
    "sns.lineplot(x=\"num_pca\", y=\"variance\", data=scree, ax = ax[0], color = 'black')\n",
    "ax[0].set_xticks(range(1,5))\n",
    "sns.barplot(x=\"num_pca\", y=\"cum_variance\", data=scree, ax = ax[1], color = 'lightblue')"
   ]
  },
  {
   "cell_type": "markdown",
   "id": "cd334fc2",
   "metadata": {},
   "source": [
    "### Getting the pca coeficients"
   ]
  },
  {
   "cell_type": "code",
   "execution_count": 26,
   "id": "4d8902fb",
   "metadata": {},
   "outputs": [
    {
     "data": {
      "text/plain": [
       "array([[ 0.14444367,  0.55211584,  0.49501582,  0.65518201],\n",
       "       [ 0.8757332 , -0.35113415,  0.30560597, -0.12806699],\n",
       "       [ 0.46040692,  0.51383428, -0.72377324,  0.0123329 ],\n",
       "       [ 0.01590128, -0.55483984, -0.3711019 ,  0.74443487]])"
      ]
     },
     "execution_count": 26,
     "metadata": {},
     "output_type": "execute_result"
    }
   ],
   "source": [
    "pca.components_"
   ]
  },
  {
   "cell_type": "code",
   "execution_count": 27,
   "id": "47d39f0b",
   "metadata": {},
   "outputs": [
    {
     "data": {
      "text/plain": [
       "array([0.14444367, 0.55211584, 0.49501582, 0.65518201])"
      ]
     },
     "execution_count": 27,
     "metadata": {},
     "output_type": "execute_result"
    }
   ],
   "source": [
    "# Fisrt pca components\n",
    "pca.components_[0,:]"
   ]
  },
  {
   "cell_type": "code",
   "execution_count": 28,
   "id": "47db2e20",
   "metadata": {},
   "outputs": [
    {
     "name": "stdout",
     "output_type": "stream",
     "text": [
      "Principal component  1\n",
      "[(4, 'TotalCharges', 0.66), (2, 'tenure', 0.55), (3, 'MonthlyCharges', 0.5), (1, 'SeniorCitizen', 0.14)]\n",
      "\n",
      "Principal component  2\n",
      "[(1, 'SeniorCitizen', 0.88), (2, 'tenure', -0.35), (3, 'MonthlyCharges', 0.31), (4, 'TotalCharges', -0.13)]\n",
      "\n",
      "Principal component  3\n",
      "[(3, 'MonthlyCharges', -0.72), (2, 'tenure', 0.51), (1, 'SeniorCitizen', 0.46), (4, 'TotalCharges', 0.01)]\n",
      "\n",
      "Principal component  4\n",
      "[(4, 'TotalCharges', 0.74), (2, 'tenure', -0.55), (3, 'MonthlyCharges', -0.37), (1, 'SeniorCitizen', 0.02)]\n",
      "\n"
     ]
    }
   ],
   "source": [
    "for comp in range(1,len(pca.components_)+1):\n",
    "    print(\"Principal component \",comp)\n",
    "    my_list = [(abs(value),index+1,X.columns[index],value) for index,value in enumerate(pca.components_[comp-1,:]) ]\n",
    "    my_list.sort(reverse=True)\n",
    "    my_list = [(elem[1],elem[2],round(elem[3],2)) for elem in my_list]\n",
    "    print(my_list)\n",
    "    print()"
   ]
  },
  {
   "cell_type": "markdown",
   "id": "3c135ec8",
   "metadata": {},
   "source": [
    "### Generating a regression model with the pca"
   ]
  },
  {
   "cell_type": "code",
   "execution_count": 41,
   "id": "9bc785f6",
   "metadata": {},
   "outputs": [],
   "source": [
    "from matplotlib.ticker import FuncFormatter\n",
    "import matplotlib.ticker as ticker\n",
    "\n",
    "def show_errors(y_real_train, y_pred_train, y_real_test, y_pred_test):\n",
    "\n",
    "    plt.style.use('seaborn') \n",
    "\n",
    "    fig, ax = plt.subplots(2,2,figsize=(10,10))\n",
    "    \n",
    "    ax[0,0].scatter(x = np.exp(y_real_train), y = np.exp(y_pred_train), c = 'green')\n",
    "    ax[0,0].plot([0,15000], [0,15000], linestyle = '--',c = 'black')\n",
    "    ax[0,0].set_xlim(0,15000)\n",
    "    ax[0,0].set_ylim(0,15000)\n",
    "\n",
    "    ax[0,0].xaxis.set_major_formatter(FuncFormatter(lambda x, p: f'{int(x/1000)}K'))\n",
    "    ax[0,0].yaxis.set_major_formatter(FuncFormatter(lambda x, p: f'{int(x/1000)}K'))\n",
    "    ax[0,0].set_title('Train set')\n",
    "\n",
    "    ax[0,1].hist(x = np.exp(y_real_train)-np.exp(y_pred_train), bins = 50,color = 'green')\n",
    "    ax[0,1].set_xlim(-7000,7000)\n",
    "    ax[0,1].xaxis.set_major_formatter(FuncFormatter(lambda x, p: f'{int(x/1000)}K'))\n",
    "    ax[0,1].set_title('Train set')\n",
    "\n",
    "    ax[1,0].scatter(x = np.exp(y_real_test), y = np.exp(y_pred_test), c = 'blue')\n",
    "    ax[1,0].plot([0,15000], [0,15000], linestyle = '--',c = 'black')\n",
    "    ax[1,0].set_xlim(0,15000)\n",
    "    ax[1,0].set_ylim(0,15000)\n",
    "    ax[1,0].xaxis.set_major_formatter(FuncFormatter(lambda x, p: f'{int(x/1000)}K'))\n",
    "    ax[1,0].yaxis.set_major_formatter(FuncFormatter(lambda x, p: f'{int(x/1000)}K'))\n",
    "    ax[1,0].set_title('Test set')   \n",
    "\n",
    "    ax[1,1].hist(x = np.exp(y_real_test)-np.exp(y_pred_test), bins = 50,color = 'blue')\n",
    "    ax[1,1].set_xlim(-7000,7000)\n",
    "    ax[1,1].xaxis.set_major_formatter(FuncFormatter(lambda x, p: f'{int(x/1000)}K'))\n",
    "    ax[1,1].set_title('Test set')\n",
    "\n",
    "    fig.tight_layout()\n",
    "    pass"
   ]
  },
  {
   "cell_type": "code",
   "execution_count": 42,
   "id": "b9c4c85a",
   "metadata": {},
   "outputs": [
    {
     "data": {
      "image/png": "[encoded data removed]",
      "text/plain": [
       "<Figure size 720x720 with 4 Axes>"
      ]
     },
     "metadata": {},
     "output_type": "display_data"
    }
   ],
   "source": [
    "from sklearn.linear_model import LinearRegression\n",
    "\n",
    "lm = LinearRegression()\n",
    "\n",
    "lm.fit(X_train,y_train)\n",
    "\n",
    "y_pred_train = lm.predict(X_train)\n",
    "y_pred_test  = lm.predict(X_test)\n",
    "\n",
    "show_errors(y_train, y_pred_train, y_test, y_pred_test)"
   ]
  },
  {
   "cell_type": "code",
   "execution_count": null,
   "id": "31805a1b",
   "metadata": {},
   "outputs": [],
   "source": []
  }
 ],
 "metadata": {
  "kernelspec": {
   "display_name": "Python 3 (ipykernel)",
   "language": "python",
   "name": "python3"
  },
  "language_info": {
   "codemirror_mode": {
    "name": "ipython",
    "version": 3
   },
   "file_extension": ".py",
   "mimetype": "text/x-python",
   "name": "python",
   "nbconvert_exporter": "python",
   "pygments_lexer": "ipython3",
   "version": "3.9.6"
  }
 },
 "nbformat": 4,
 "nbformat_minor": 5
}
