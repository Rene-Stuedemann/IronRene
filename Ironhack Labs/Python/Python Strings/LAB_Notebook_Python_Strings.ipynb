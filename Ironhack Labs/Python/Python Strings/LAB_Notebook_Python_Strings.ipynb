{
 "cells": [
  {
   "cell_type": "markdown",
   "metadata": {},
   "source": [
    "# Lab -Python Strings Operations"
   ]
  },
  {
   "cell_type": "markdown",
   "metadata": {},
   "source": [
    "# Challenge 1 - Combining Strings\n",
    "\n",
    "Combining strings is an important skill to acquire. There are multiple ways of combining strings in Python, as well as combining strings with variables. We will explore this in the first challenge. In the cell below, combine the strings in the list and add spaces between the strings (do not add a space after the last string). Insert a period after the last string."
   ]
  },
  {
   "cell_type": "code",
   "execution_count": 27,
   "metadata": {},
   "outputs": [
    {
     "data": {
      "text/plain": [
       "'I am strengthening my programming skills in order to become a great Data Analyst.'"
      ]
     },
     "execution_count": 27,
     "metadata": {},
     "output_type": "execute_result"
    }
   ],
   "source": [
    "str_list = ['I', 'am', 'strengthening', 'my', 'programming', 'skills', 'in', 'order', 'to', 'become', 'a', 'great', 'Data','Analyst']\n",
    "\n",
    "# Your code here:\n",
    "\n",
    "' '.join(str_list)+'.'\n"
   ]
  },
  {
   "cell_type": "markdown",
   "metadata": {},
   "source": [
    "In the cell below, use the list of strings to create a grocery list. Start the list with the string `Grocery list: ` and include a comma and a space between each item except for the last one. Include a period at the end. Only include foods in the list that start with the letter 'b' and ensure all foods are lower case."
   ]
  },
  {
   "cell_type": "code",
   "execution_count": 10,
   "metadata": {},
   "outputs": [
    {
     "data": {
      "text/plain": [
       "['bananas', 'bread', 'brownie mix', 'broccoli']"
      ]
     },
     "execution_count": 10,
     "metadata": {},
     "output_type": "execute_result"
    }
   ],
   "source": [
    "food_list = ['Bananas', 'Chocolate', 'bread', 'diapers', 'Ice Cream', 'Brownie Mix', 'broccoli']\n",
    "\n",
    "# Your code here:\n"
   ]
  },
  {
   "cell_type": "code",
   "execution_count": 11,
   "metadata": {},
   "outputs": [
    {
     "name": "stdout",
     "output_type": "stream",
     "text": [
      "Grocery list: bananas, bread, brownie mix, broccoli.\n"
     ]
    }
   ],
   "source": [
    "food_list = ['Bananas', 'Chocolate', 'bread', 'diapers', 'Ice Cream', 'Brownie Mix', 'broccoli']\n",
    "solution = \"Grocery list: \"\n",
    "\n",
    "\n",
    "# Your code here:\n",
    "\n",
    "for i in range(len(food_list)):\n",
    "    \n",
    "    food_list[i] = food_list[i].lower()\n",
    "    \n",
    "    ## if food starts with 'b'\n",
    "    if food_list[i].startswith('b'):\n",
    "        \n",
    "        if i == 0:\n",
    "            \n",
    "            solution = solution + food_list[i]\n",
    "            \n",
    "        else:\n",
    "        \n",
    "            solution = solution + \", \" + food_list[i]\n",
    "\n",
    "solution = solution + \".\"\n",
    "            \n",
    "print(solution)"
   ]
  },
  {
   "cell_type": "markdown",
   "metadata": {},
   "source": [
    "In the cell below, compute the area of a circle using its radius and insert the radius and the area between `string1` and `string2`. Make sure to include spaces between the variable and the strings. \n",
    "\n",
    "Note: You can use the techniques we have learned so far or use f-strings. F-strings allow us to embed code inside strings. You can read more about f-strings [here](https://www.python.org/dev/peps/pep-0498/)."
   ]
  },
  {
   "cell_type": "code",
   "execution_count": 16,
   "metadata": {},
   "outputs": [],
   "source": [
    "import math\n",
    "\n",
    "string1 = \"The area of the circle with radius:\"\n",
    "string2  = \"is:\"\n",
    "radius = 4.5\n",
    "pi = math.pi\n",
    "area= pi*radius**2\n",
    "\n",
    "solution = string1 + str(radius) + \" \" + string2 + str(round(area,2))\n"
   ]
  },
  {
   "cell_type": "code",
   "execution_count": 17,
   "metadata": {},
   "outputs": [
    {
     "data": {
      "text/plain": [
       "'The area of the circle with radius:4.5 is:63.62'"
      ]
     },
     "execution_count": 17,
     "metadata": {},
     "output_type": "execute_result"
    }
   ],
   "source": [
    "solution"
   ]
  },
  {
   "cell_type": "code",
   "execution_count": 18,
   "metadata": {},
   "outputs": [
    {
     "data": {
      "text/plain": [
       "63.61725123519331"
      ]
     },
     "execution_count": 18,
     "metadata": {},
     "output_type": "execute_result"
    }
   ],
   "source": [
    "area"
   ]
  },
  {
   "cell_type": "code",
   "execution_count": 19,
   "metadata": {},
   "outputs": [
    {
     "ename": "TypeError",
     "evalue": "can only concatenate str (not \"float\") to str",
     "output_type": "error",
     "traceback": [
      "\u001b[1;31m---------------------------------------------------------------------------\u001b[0m",
      "\u001b[1;31mTypeError\u001b[0m                                 Traceback (most recent call last)",
      "\u001b[1;32m~\\AppData\\Local\\Temp/ipykernel_22092/1798499439.py\u001b[0m in \u001b[0;36m<module>\u001b[1;34m\u001b[0m\n\u001b[1;32m----> 1\u001b[1;33m \u001b[0mstring1\u001b[0m \u001b[1;33m+\u001b[0m \u001b[0mradius\u001b[0m\u001b[1;33m\u001b[0m\u001b[1;33m\u001b[0m\u001b[0m\n\u001b[0m",
      "\u001b[1;31mTypeError\u001b[0m: can only concatenate str (not \"float\") to str"
     ]
    }
   ],
   "source": [
    "string1 + radius"
   ]
  },
  {
   "cell_type": "markdown",
   "metadata": {},
   "source": [
    "# Challenge 2 - Splitting Strings\n",
    "\n",
    "We have first looked at combining strings into one long string. There are times where we need to do the opposite and split the string into smaller components for further analysis. \n",
    "\n",
    "In the cell below, split the string into a list of strings using the space delimiter. Count the frequency of each word in the string in a dictionary. Strip the periods, line breaks and commas from the text. Make sure to remove empty strings from your dictionary."
   ]
  },
  {
   "cell_type": "code",
   "execution_count": 35,
   "metadata": {},
   "outputs": [],
   "source": [
    "poem = \"\"\"Some say the world will end in fire,\n",
    "Some say in ice.\n",
    "From what I’ve tasted of desire\n",
    "I hold with those who favor fire.\n",
    "But if it had to perish twice,\n",
    "I think I know enough of hate\n",
    "To say that for destruction ice\n",
    "Is also great\n",
    "And would suffice.\"\"\"\n",
    "\n",
    "poem = poem.lower()\n",
    "\n",
    "char_remove = \";.:,&\"\n",
    "\n",
    "for char in char_remove:\n",
    "    \n",
    "    poem = poem.replace(char, \"\")\n",
    "    \n",
    "poem_split = poem.split()\n",
    "sol = {}\n",
    "\n",
    "for word in poem_split:\n",
    "\n",
    "    if word in sol.keys():\n",
    "        \n",
    "        sol[word] += 1\n",
    "        \n",
    "    else:\n",
    "        \n",
    "        sol[word] = 1\n"
   ]
  },
  {
   "cell_type": "code",
   "execution_count": 34,
   "metadata": {},
   "outputs": [
    {
     "data": {
      "text/plain": [
       "'some say the world will end in fire\\nsome say in ice\\nfrom what i’ve tasted of desire\\ni hold with those who favor fire\\nbut if it had to perish twice\\ni think i know enough of hate\\nto say that for destruction ice\\nis also great\\nand would suffice'"
      ]
     },
     "execution_count": 34,
     "metadata": {},
     "output_type": "execute_result"
    }
   ],
   "source": [
    "poem"
   ]
  },
  {
   "cell_type": "code",
   "execution_count": 36,
   "metadata": {},
   "outputs": [
    {
     "data": {
      "text/plain": [
       "{'some': 2,\n",
       " 'say': 3,\n",
       " 'the': 1,\n",
       " 'world': 1,\n",
       " 'will': 1,\n",
       " 'end': 1,\n",
       " 'in': 2,\n",
       " 'fire': 2,\n",
       " 'ice': 2,\n",
       " 'from': 1,\n",
       " 'what': 1,\n",
       " 'i’ve': 1,\n",
       " 'tasted': 1,\n",
       " 'of': 2,\n",
       " 'desire': 1,\n",
       " 'i': 3,\n",
       " 'hold': 1,\n",
       " 'with': 1,\n",
       " 'those': 1,\n",
       " 'who': 1,\n",
       " 'favor': 1,\n",
       " 'but': 1,\n",
       " 'if': 1,\n",
       " 'it': 1,\n",
       " 'had': 1,\n",
       " 'to': 2,\n",
       " 'perish': 1,\n",
       " 'twice': 1,\n",
       " 'think': 1,\n",
       " 'know': 1,\n",
       " 'enough': 1,\n",
       " 'hate': 1,\n",
       " 'that': 1,\n",
       " 'for': 1,\n",
       " 'destruction': 1,\n",
       " 'is': 1,\n",
       " 'also': 1,\n",
       " 'great': 1,\n",
       " 'and': 1,\n",
       " 'would': 1,\n",
       " 'suffice': 1}"
      ]
     },
     "execution_count": 36,
     "metadata": {},
     "output_type": "execute_result"
    }
   ],
   "source": [
    "sol"
   ]
  },
  {
   "cell_type": "markdown",
   "metadata": {},
   "source": [
    "In the cell below, find all the words that appear in the text and do not appear in the blacklist. You must parse the string but can choose any data structure you wish for the words that do not appear in the blacklist. Remove all non letter characters and convert all words to lower case."
   ]
  },
  {
   "cell_type": "code",
   "execution_count": 52,
   "metadata": {},
   "outputs": [],
   "source": [
    "blacklist = ['and', 'as', 'an', 'a', 'the', 'in', 'it']\n",
    "\n",
    "poem = \"\"\"I was angry with my friend; \n",
    "I told my wrath, my wrath did end.\n",
    "I was angry with my foe: \n",
    "I told it not, my wrath did grow. \n",
    "\n",
    "And I waterd it in fears,\n",
    "Night & morning with my tears: \n",
    "And I sunned it with smiles,\n",
    "And with soft deceitful wiles. \n",
    "\n",
    "And it grew both day and night. \n",
    "Till it bore an apple bright. \n",
    "And my foe beheld it shine,\n",
    "And he knew that it was mine. \n",
    "\n",
    "And into my garden stole, \n",
    "When the night had veild the pole; \n",
    "In the morning glad I see; \n",
    "My foe outstretched beneath the tree.\"\"\"\n",
    "\n",
    "# convert to lower case\n",
    "poem = poem.lower()  \n",
    "\n",
    "\n",
    "# remove non letter characters\n",
    "char_remove = \";.:,&\"\n",
    "\n",
    "for char in char_remove:\n",
    "    \n",
    "    poem = poem.replace(char, \"\")\n",
    "    \n",
    "# split the poem into words and store in a list\n",
    "\n",
    "poem_split = poem.split()\n",
    "\n",
    "# remove duplicates words on the poem and convert to set\n",
    "\n",
    "poem_split_set = set(poem_split)\n",
    "\n",
    "# convert blacklist to set\n",
    "\n",
    "blacklist_set = set(blacklist)\n",
    "\n",
    "# find the intersection of both sets (words that are contained in both sets)\n",
    "\n",
    "intersection = poem_split_set.intersection(blacklist) \n",
    "\n",
    "# find the solution, words that are only in the poem (not in the blacklist)\n",
    "\n",
    "solution = poem_split_set - intersection\n"
   ]
  },
  {
   "cell_type": "code",
   "execution_count": 38,
   "metadata": {},
   "outputs": [
    {
     "data": {
      "text/plain": [
       "'i was angry with my friend \\ni told my wrath my wrath did end\\ni was angry with my foe \\ni told it not my wrath did grow \\n\\nand i waterd it in fears\\nnight  morning with my tears \\nand i sunned it with smiles\\nand with soft deceitful wiles \\n\\nand it grew both day and night \\ntill it bore an apple bright \\nand my foe beheld it shine\\nand he knew that it was mine \\n\\nand into my garden stole \\nwhen the night had veild the pole \\nin the morning glad i see \\nmy foe outstretched beneath the tree'"
      ]
     },
     "execution_count": 38,
     "metadata": {},
     "output_type": "execute_result"
    }
   ],
   "source": [
    "poem"
   ]
  },
  {
   "cell_type": "code",
   "execution_count": 61,
   "metadata": {},
   "outputs": [
    {
     "name": "stdout",
     "output_type": "stream",
     "text": [
      "5\n"
     ]
    },
    {
     "data": {
      "text/plain": [
       "{'an', 'and', 'in', 'it', 'the'}"
      ]
     },
     "execution_count": 61,
     "metadata": {},
     "output_type": "execute_result"
    }
   ],
   "source": [
    "print(len(intersection))\n",
    "intersection\n"
   ]
  },
  {
   "cell_type": "code",
   "execution_count": 59,
   "metadata": {},
   "outputs": [
    {
     "name": "stdout",
     "output_type": "stream",
     "text": [
      "53\n"
     ]
    },
    {
     "data": {
      "text/plain": [
       "{'an',\n",
       " 'and',\n",
       " 'angry',\n",
       " 'apple',\n",
       " 'beheld',\n",
       " 'beneath',\n",
       " 'bore',\n",
       " 'both',\n",
       " 'bright',\n",
       " 'day',\n",
       " 'deceitful',\n",
       " 'did',\n",
       " 'end',\n",
       " 'fears',\n",
       " 'foe',\n",
       " 'friend',\n",
       " 'garden',\n",
       " 'glad',\n",
       " 'grew',\n",
       " 'grow',\n",
       " 'had',\n",
       " 'he',\n",
       " 'i',\n",
       " 'in',\n",
       " 'into',\n",
       " 'it',\n",
       " 'knew',\n",
       " 'mine',\n",
       " 'morning',\n",
       " 'my',\n",
       " 'night',\n",
       " 'not',\n",
       " 'outstretched',\n",
       " 'pole',\n",
       " 'see',\n",
       " 'shine',\n",
       " 'smiles',\n",
       " 'soft',\n",
       " 'stole',\n",
       " 'sunned',\n",
       " 'tears',\n",
       " 'that',\n",
       " 'the',\n",
       " 'till',\n",
       " 'told',\n",
       " 'tree',\n",
       " 'veild',\n",
       " 'was',\n",
       " 'waterd',\n",
       " 'when',\n",
       " 'wiles',\n",
       " 'with',\n",
       " 'wrath'}"
      ]
     },
     "execution_count": 59,
     "metadata": {},
     "output_type": "execute_result"
    }
   ],
   "source": [
    "print(len(poem_split_set))\n",
    "poem_split_set"
   ]
  },
  {
   "cell_type": "code",
   "execution_count": 60,
   "metadata": {},
   "outputs": [
    {
     "name": "stdout",
     "output_type": "stream",
     "text": [
      "48\n"
     ]
    },
    {
     "data": {
      "text/plain": [
       "{'angry',\n",
       " 'apple',\n",
       " 'beheld',\n",
       " 'beneath',\n",
       " 'bore',\n",
       " 'both',\n",
       " 'bright',\n",
       " 'day',\n",
       " 'deceitful',\n",
       " 'did',\n",
       " 'end',\n",
       " 'fears',\n",
       " 'foe',\n",
       " 'friend',\n",
       " 'garden',\n",
       " 'glad',\n",
       " 'grew',\n",
       " 'grow',\n",
       " 'had',\n",
       " 'he',\n",
       " 'i',\n",
       " 'into',\n",
       " 'knew',\n",
       " 'mine',\n",
       " 'morning',\n",
       " 'my',\n",
       " 'night',\n",
       " 'not',\n",
       " 'outstretched',\n",
       " 'pole',\n",
       " 'see',\n",
       " 'shine',\n",
       " 'smiles',\n",
       " 'soft',\n",
       " 'stole',\n",
       " 'sunned',\n",
       " 'tears',\n",
       " 'that',\n",
       " 'till',\n",
       " 'told',\n",
       " 'tree',\n",
       " 'veild',\n",
       " 'was',\n",
       " 'waterd',\n",
       " 'when',\n",
       " 'wiles',\n",
       " 'with',\n",
       " 'wrath'}"
      ]
     },
     "execution_count": 60,
     "metadata": {},
     "output_type": "execute_result"
    }
   ],
   "source": [
    "print(len(solution))\n",
    "solution"
   ]
  },
  {
   "cell_type": "code",
   "execution_count": 45,
   "metadata": {},
   "outputs": [
    {
     "data": {
      "text/plain": [
       "{'a', 'an', 'and', 'as', 'in', 'it', 'the'}"
      ]
     },
     "execution_count": 45,
     "metadata": {},
     "output_type": "execute_result"
    }
   ],
   "source": [
    "blacklist_set"
   ]
  },
  {
   "cell_type": "code",
   "execution_count": null,
   "metadata": {},
   "outputs": [],
   "source": []
  }
 ],
 "metadata": {
  "file_extension": ".py",
  "kernelspec": {
   "display_name": "Python 3 (ipykernel)",
   "language": "python",
   "name": "python3"
  },
  "language_info": {
   "codemirror_mode": {
    "name": "ipython",
    "version": 3
   },
   "file_extension": ".py",
   "mimetype": "text/x-python",
   "name": "python",
   "nbconvert_exporter": "python",
   "pygments_lexer": "ipython3",
   "version": "3.9.6"
  },
  "mimetype": "text/x-python",
  "name": "python",
  "npconvert_exporter": "python",
  "pygments_lexer": "ipython3",
  "version": 3
 },
 "nbformat": 4,
 "nbformat_minor": 2
}
